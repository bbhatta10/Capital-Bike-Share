{
 "cells": [
  {
   "cell_type": "code",
   "execution_count": 10,
   "metadata": {
    "colab": {
     "base_uri": "https://localhost:8080/"
    },
    "executionInfo": {
     "elapsed": 20,
     "status": "ok",
     "timestamp": 1748943048988,
     "user": {
      "displayName": "Lucas Dupias",
      "userId": "12003253084870007670"
     },
     "user_tz": -120
    },
    "id": "cY9OPBcyRT29",
    "outputId": "83f7d5b7-f2b1-409e-e151-0e5e93a96922"
   },
   "outputs": [
    {
     "name": "stdout",
     "output_type": "stream",
     "text": [
      "Hello World!\n"
     ]
    }
   ],
   "source": [
    "print(\"Hello World!\")"
   ]
  },
  {
   "cell_type": "code",
   "execution_count": 11,
   "metadata": {
    "id": "zl4KvMXmRVn2"
   },
   "outputs": [
    {
     "data": {
      "text/plain": [
       "'\\nyou can also maximize the memory that VSC uses. To do this,\\ngo to the search bar in VSC, search for \"files.maxMemoryForLargeFilesMB,\"\\nand increase the value. Alternatively, you can use the command line with the following parameter:\\n < --max-memory= DEFINENEWSIZEHERE >\\n'"
      ]
     },
     "execution_count": 11,
     "metadata": {},
     "output_type": "execute_result"
    }
   ],
   "source": [
    "\"\"\"\n",
    "you can also maximize the memory that VSC uses. To do this,\n",
    "go to the search bar in VSC, search for \"files.maxMemoryForLargeFilesMB,\"\n",
    "and increase the value. Alternatively, you can use the command line with the following parameter:\n",
    " < --max-memory= DEFINENEWSIZEHERE >\n",
    "\"\"\""
   ]
  },
  {
   "cell_type": "code",
   "execution_count": 12,
   "metadata": {
    "executionInfo": {
     "elapsed": 2408,
     "status": "ok",
     "timestamp": 1748943051395,
     "user": {
      "displayName": "Lucas Dupias",
      "userId": "12003253084870007670"
     },
     "user_tz": -120
    },
    "id": "Lb4l4_PQRT3B"
   },
   "outputs": [],
   "source": [
    "import pandas as pd"
   ]
  },
  {
   "cell_type": "code",
   "execution_count": 13,
   "metadata": {
    "colab": {
     "base_uri": "https://localhost:8080/",
     "height": 287
    },
    "executionInfo": {
     "elapsed": 120,
     "status": "error",
     "timestamp": 1748943065749,
     "user": {
      "displayName": "Lucas Dupias",
      "userId": "12003253084870007670"
     },
     "user_tz": -120
    },
    "id": "D_dI0zopRT3C",
    "outputId": "9b0d3d1c-813a-4ab1-d2cb-1254f6f549f8"
   },
   "outputs": [],
   "source": [
    "# df = pd.read_csv(\"CBS_full.csv\")"
   ]
  },
  {
   "cell_type": "code",
   "execution_count": 14,
   "metadata": {
    "colab": {
     "base_uri": "https://localhost:8080/",
     "height": 141
    },
    "executionInfo": {
     "elapsed": 390,
     "status": "error",
     "timestamp": 1748943051793,
     "user": {
      "displayName": "Lucas Dupias",
      "userId": "12003253084870007670"
     },
     "user_tz": -120
    },
    "id": "yO3g10PnRT3C",
    "outputId": "2467656d-5fa6-4793-b110-782804d6b6ac"
   },
   "outputs": [
    {
     "data": {
      "text/html": [
       "<div>\n",
       "<style scoped>\n",
       "    .dataframe tbody tr th:only-of-type {\n",
       "        vertical-align: middle;\n",
       "    }\n",
       "\n",
       "    .dataframe tbody tr th {\n",
       "        vertical-align: top;\n",
       "    }\n",
       "\n",
       "    .dataframe thead th {\n",
       "        text-align: right;\n",
       "    }\n",
       "</style>\n",
       "<table border=\"1\" class=\"dataframe\">\n",
       "  <thead>\n",
       "    <tr style=\"text-align: right;\">\n",
       "      <th></th>\n",
       "      <th>ride_id</th>\n",
       "      <th>rideable_type</th>\n",
       "      <th>started_at</th>\n",
       "      <th>ended_at</th>\n",
       "      <th>start_station_name</th>\n",
       "      <th>start_station_id</th>\n",
       "      <th>end_station_name</th>\n",
       "      <th>end_station_id</th>\n",
       "      <th>start_lat</th>\n",
       "      <th>start_lng</th>\n",
       "      <th>end_lat</th>\n",
       "      <th>end_lng</th>\n",
       "      <th>member_casual</th>\n",
       "    </tr>\n",
       "  </thead>\n",
       "  <tbody>\n",
       "    <tr>\n",
       "      <th>0</th>\n",
       "      <td>5CB9DFCECF79AF84</td>\n",
       "      <td>classic_bike</td>\n",
       "      <td>2021-01-01 00:08:33</td>\n",
       "      <td>2021-01-01 00:33:53</td>\n",
       "      <td>Maine Ave &amp; 9th St SW</td>\n",
       "      <td>31646.0</td>\n",
       "      <td>Rosslyn Metro / Wilson Blvd &amp; Ft Myer Dr</td>\n",
       "      <td>31015.0</td>\n",
       "      <td>38.880440</td>\n",
       "      <td>-77.025236</td>\n",
       "      <td>38.894600</td>\n",
       "      <td>-77.072305</td>\n",
       "      <td>member</td>\n",
       "    </tr>\n",
       "    <tr>\n",
       "      <th>1</th>\n",
       "      <td>629E059504606547</td>\n",
       "      <td>electric_bike</td>\n",
       "      <td>2021-01-01 00:13:43</td>\n",
       "      <td>2021-01-01 00:29:34</td>\n",
       "      <td>10th &amp; U St NW</td>\n",
       "      <td>31111.0</td>\n",
       "      <td>NaN</td>\n",
       "      <td>NaN</td>\n",
       "      <td>38.917193</td>\n",
       "      <td>-77.025894</td>\n",
       "      <td>38.960000</td>\n",
       "      <td>-77.020000</td>\n",
       "      <td>casual</td>\n",
       "    </tr>\n",
       "    <tr>\n",
       "      <th>2</th>\n",
       "      <td>E74069873161EE33</td>\n",
       "      <td>electric_bike</td>\n",
       "      <td>2021-01-01 00:14:32</td>\n",
       "      <td>2021-01-01 00:28:45</td>\n",
       "      <td>17th &amp; Corcoran St NW</td>\n",
       "      <td>31214.0</td>\n",
       "      <td>14th &amp; Belmont St NW</td>\n",
       "      <td>31119.0</td>\n",
       "      <td>38.912138</td>\n",
       "      <td>-77.038568</td>\n",
       "      <td>38.920870</td>\n",
       "      <td>-77.031691</td>\n",
       "      <td>member</td>\n",
       "    </tr>\n",
       "    <tr>\n",
       "      <th>3</th>\n",
       "      <td>91F95E512CABC46A</td>\n",
       "      <td>classic_bike</td>\n",
       "      <td>2021-01-01 00:15:45</td>\n",
       "      <td>2021-01-01 00:21:20</td>\n",
       "      <td>Wilson Blvd. &amp; N. Vermont St.</td>\n",
       "      <td>31926.0</td>\n",
       "      <td>Wilson Blvd. &amp; N. Vermont St.</td>\n",
       "      <td>31926.0</td>\n",
       "      <td>38.879477</td>\n",
       "      <td>-77.114563</td>\n",
       "      <td>38.879477</td>\n",
       "      <td>-77.114563</td>\n",
       "      <td>member</td>\n",
       "    </tr>\n",
       "    <tr>\n",
       "      <th>4</th>\n",
       "      <td>DA46A05139C0EA2F</td>\n",
       "      <td>classic_bike</td>\n",
       "      <td>2021-01-01 00:17:46</td>\n",
       "      <td>2021-01-01 00:21:00</td>\n",
       "      <td>11th &amp; Park Rd NW</td>\n",
       "      <td>31651.0</td>\n",
       "      <td>14th &amp; Newton St NW</td>\n",
       "      <td>31649.0</td>\n",
       "      <td>38.931322</td>\n",
       "      <td>-77.028247</td>\n",
       "      <td>38.931991</td>\n",
       "      <td>-77.032956</td>\n",
       "      <td>member</td>\n",
       "    </tr>\n",
       "  </tbody>\n",
       "</table>\n",
       "</div>"
      ],
      "text/plain": [
       "            ride_id  rideable_type           started_at             ended_at  \\\n",
       "0  5CB9DFCECF79AF84   classic_bike  2021-01-01 00:08:33  2021-01-01 00:33:53   \n",
       "1  629E059504606547  electric_bike  2021-01-01 00:13:43  2021-01-01 00:29:34   \n",
       "2  E74069873161EE33  electric_bike  2021-01-01 00:14:32  2021-01-01 00:28:45   \n",
       "3  91F95E512CABC46A   classic_bike  2021-01-01 00:15:45  2021-01-01 00:21:20   \n",
       "4  DA46A05139C0EA2F   classic_bike  2021-01-01 00:17:46  2021-01-01 00:21:00   \n",
       "\n",
       "              start_station_name start_station_id  \\\n",
       "0          Maine Ave & 9th St SW          31646.0   \n",
       "1                 10th & U St NW          31111.0   \n",
       "2          17th & Corcoran St NW          31214.0   \n",
       "3  Wilson Blvd. & N. Vermont St.          31926.0   \n",
       "4              11th & Park Rd NW          31651.0   \n",
       "\n",
       "                           end_station_name end_station_id  start_lat  \\\n",
       "0  Rosslyn Metro / Wilson Blvd & Ft Myer Dr        31015.0  38.880440   \n",
       "1                                       NaN            NaN  38.917193   \n",
       "2                      14th & Belmont St NW        31119.0  38.912138   \n",
       "3             Wilson Blvd. & N. Vermont St.        31926.0  38.879477   \n",
       "4                       14th & Newton St NW        31649.0  38.931322   \n",
       "\n",
       "   start_lng    end_lat    end_lng member_casual  \n",
       "0 -77.025236  38.894600 -77.072305        member  \n",
       "1 -77.025894  38.960000 -77.020000        casual  \n",
       "2 -77.038568  38.920870 -77.031691        member  \n",
       "3 -77.114563  38.879477 -77.114563        member  \n",
       "4 -77.028247  38.931991 -77.032956        member  "
      ]
     },
     "execution_count": 14,
     "metadata": {},
     "output_type": "execute_result"
    }
   ],
   "source": [
    "df.head()"
   ]
  },
  {
   "cell_type": "code",
   "execution_count": 15,
   "metadata": {
    "id": "0mo1V9GaRT3C",
    "outputId": "b7a439d2-c9c5-40fd-ae56-eaaab264f8f3"
   },
   "outputs": [
    {
     "name": "stdout",
     "output_type": "stream",
     "text": [
      "Info of the DataFrame:\n",
      " \n",
      "\n",
      "<class 'pandas.core.frame.DataFrame'>\n",
      "RangeIndex: 10693997 entries, 0 to 10693996\n",
      "Data columns (total 13 columns):\n",
      " #   Column              Dtype  \n",
      "---  ------              -----  \n",
      " 0   ride_id             object \n",
      " 1   rideable_type       object \n",
      " 2   started_at          object \n",
      " 3   ended_at            object \n",
      " 4   start_station_name  object \n",
      " 5   start_station_id    object \n",
      " 6   end_station_name    object \n",
      " 7   end_station_id      object \n",
      " 8   start_lat           float64\n",
      " 9   start_lng           float64\n",
      " 10  end_lat             float64\n",
      " 11  end_lng             float64\n",
      " 12  member_casual       object \n",
      "dtypes: float64(4), object(9)\n",
      "memory usage: 1.0+ GB\n"
     ]
    }
   ],
   "source": [
    "# Check info and dtypes of the dataframe\n",
    "print(\"Info of the DataFrame:\\n\", '\\n')\n",
    "df.info()\n",
    "\n"
   ]
  },
  {
   "cell_type": "code",
   "execution_count": 16,
   "metadata": {
    "colab": {
     "base_uri": "https://localhost:8080/",
     "height": 176
    },
    "executionInfo": {
     "elapsed": 35,
     "status": "error",
     "timestamp": 1748943054477,
     "user": {
      "displayName": "Lucas Dupias",
      "userId": "12003253084870007670"
     },
     "user_tz": -120
    },
    "id": "tXZvDBiORT3D",
    "outputId": "72221d43-00f5-485f-a502-050a97f7231a"
   },
   "outputs": [
    {
     "name": "stdout",
     "output_type": "stream",
     "text": [
      "Unique values before conversion:\n",
      " ride_id               10693997\n",
      "rideable_type                3\n",
      "started_at             9649173\n",
      "ended_at               9638365\n",
      "start_station_name         860\n",
      "start_station_id          1891\n",
      "end_station_name           865\n",
      "end_station_id            1904\n",
      "start_lat               570110\n",
      "start_lng               617671\n",
      "end_lat                 173835\n",
      "end_lng                 183886\n",
      "member_casual                2\n",
      "dtype: int64 \n",
      "\n"
     ]
    }
   ],
   "source": [
    "# Check unique values before conversion\n",
    "unique_values_before = df.nunique()\n",
    "print(\"Unique values before conversion:\\n\", unique_values_before, '\\n')"
   ]
  },
  {
   "cell_type": "code",
   "execution_count": 17,
   "metadata": {
    "id": "4SG_-FoHRT3D",
    "outputId": "190feb0c-b36c-45ee-d1ad-9281969417cc"
   },
   "outputs": [
    {
     "name": "stdout",
     "output_type": "stream",
     "text": [
      "Memory Usage before Converting dtypes:\n",
      " Index                       132\n",
      "ride_id               695109805\n",
      "rideable_type         654238494\n",
      "started_at            727191796\n",
      "ended_at              727191796\n",
      "start_station_name    740478725\n",
      "start_station_id      343549594\n",
      "end_station_name      736905216\n",
      "end_station_id        343530364\n",
      "start_lat              85551976\n",
      "start_lng              85551976\n",
      "end_lat                85551976\n",
      "end_lng                85551976\n",
      "member_casual         588169835\n",
      "dtype: int64 \n",
      "\n"
     ]
    }
   ],
   "source": [
    "# Check Memory usage before converting\n",
    "memory_usage = df.memory_usage(deep=True)\n",
    "print(\"Memory Usage before Converting dtypes:\\n\", memory_usage, '\\n')"
   ]
  },
  {
   "cell_type": "code",
   "execution_count": 18,
   "metadata": {
    "id": "pZMxxBqXRT3E"
   },
   "outputs": [],
   "source": [
    "# Copy the dataframe\n",
    "df2 = df.copy()\n",
    "\n",
    "# Convert categorical columns to category type for memory efficiency\n",
    "df2[\"rideable_type\"] = df2[\"rideable_type\"].astype(\"category\")\n",
    "df2[\"start_station_name\"] = df2[\"start_station_name\"].astype(\"category\")\n",
    "df2[\"end_station_name\"] = df2[\"end_station_name\"].astype(\"category\")\n",
    "df2[\"member_casual\"] = df2[\"member_casual\"].astype(\"category\")\n",
    "\n",
    "# Convert started_at and ended_at to datetime for memory efficiency\n",
    "df2['started_at'] = pd.to_datetime(df2['started_at'])\n",
    "df2['ended_at'] = pd.to_datetime(df2['ended_at'])\n",
    "\n",
    "# Regenerate the entire ride_id column with sequential integers and convert it\n",
    "# to a memory-efficient data type (uint32)\n",
    "df2['ride_id'] = pd.Series(range(1, len(df2) + 1), dtype='uint32')"
   ]
  },
  {
   "cell_type": "code",
   "execution_count": 19,
   "metadata": {
    "id": "RcaCpGuMRT3F",
    "outputId": "ca505750-72b3-447c-d579-be583cd14f39"
   },
   "outputs": [
    {
     "name": "stdout",
     "output_type": "stream",
     "text": [
      "<class 'pandas.core.frame.DataFrame'>\n",
      "RangeIndex: 10693997 entries, 0 to 10693996\n",
      "Data columns (total 13 columns):\n",
      " #   Column              Dtype         \n",
      "---  ------              -----         \n",
      " 0   ride_id             uint32        \n",
      " 1   rideable_type       category      \n",
      " 2   started_at          datetime64[ns]\n",
      " 3   ended_at            datetime64[ns]\n",
      " 4   start_station_name  category      \n",
      " 5   start_station_id    object        \n",
      " 6   end_station_name    category      \n",
      " 7   end_station_id      object        \n",
      " 8   start_lat           float64       \n",
      " 9   start_lng           float64       \n",
      " 10  end_lat             float64       \n",
      " 11  end_lng             float64       \n",
      " 12  member_casual       category      \n",
      "dtypes: category(4), datetime64[ns](2), float64(4), object(2), uint32(1)\n",
      "memory usage: 754.8+ MB\n",
      "Info of the DataFrame after conversion:\n",
      " None \n",
      "\n"
     ]
    }
   ],
   "source": [
    "# Check info and dtypes after conversion\n",
    "info_after = df2.info()\n",
    "print(\"Info of the DataFrame after conversion:\\n\", info_after, '\\n')"
   ]
  },
  {
   "cell_type": "code",
   "execution_count": 20,
   "metadata": {
    "id": "9hxpWzBrRT3F",
    "outputId": "00c19dc6-072e-45ad-81c7-93d602ef8d5d"
   },
   "outputs": [
    {
     "name": "stdout",
     "output_type": "stream",
     "text": [
      "Unique values after conversion:\n",
      " ride_id               10693997\n",
      "rideable_type                3\n",
      "started_at             9649173\n",
      "ended_at               9638365\n",
      "start_station_name         860\n",
      "start_station_id          1891\n",
      "end_station_name           865\n",
      "end_station_id            1904\n",
      "start_lat               570110\n",
      "start_lng               617671\n",
      "end_lat                 173835\n",
      "end_lng                 183886\n",
      "member_casual                2\n",
      "dtype: int64 \n",
      "\n"
     ]
    }
   ],
   "source": [
    "# Check unique values after conversion\n",
    "unique_values_after = df2.nunique()\n",
    "print(\"Unique values after conversion:\\n\", unique_values_after, '\\n')"
   ]
  },
  {
   "cell_type": "code",
   "execution_count": 21,
   "metadata": {
    "id": "UQQYB8SoRT3G",
    "outputId": "ea9fdcb1-ab91-4d6a-bd54-c1d6487d6f82"
   },
   "outputs": [
    {
     "name": "stdout",
     "output_type": "stream",
     "text": [
      "Memory Usage after Converting dtype:\n",
      " Index                       132\n",
      "ride_id                42775988\n",
      "rideable_type          10694288\n",
      "started_at             85551976\n",
      "ended_at               85551976\n",
      "start_station_name     21485201\n",
      "start_station_id      343549594\n",
      "end_station_name       21485559\n",
      "end_station_id        343530364\n",
      "start_lat              85551976\n",
      "start_lng              85551976\n",
      "end_lat                85551976\n",
      "end_lng                85551976\n",
      "member_casual          10694215\n",
      "dtype: int64 \n",
      "\n"
     ]
    }
   ],
   "source": [
    "# Check memory usage after all conversions\n",
    "print(\"Memory Usage after Converting dtype:\\n\", df2.memory_usage(deep=True), '\\n')"
   ]
  },
  {
   "cell_type": "code",
   "execution_count": 22,
   "metadata": {
    "id": "b8hN32f_RT3O",
    "outputId": "b83ee9d9-e7dc-4125-b8d5-89b70f44b948"
   },
   "outputs": [
    {
     "name": "stdout",
     "output_type": "stream",
     "text": [
      "We reduced the in-memory footprint of the dataset to 0.22 of its original size.\n"
     ]
    }
   ],
   "source": [
    "# Calculate how much we reduced the in-memory footprint of the dataset\n",
    "reduction = df2.memory_usage(deep=True).sum() / df.memory_usage(deep=True).sum()\n",
    "print(f\"We reduced the in-memory footprint of the dataset to {reduction:.2f} of its original size.\")"
   ]
  }
 ],
 "metadata": {
  "colab": {
   "provenance": [],
   "toc_visible": true
  },
  "kernelspec": {
   "display_name": "SilverFoxes",
   "language": "python",
   "name": "python3"
  },
  "language_info": {
   "codemirror_mode": {
    "name": "ipython",
    "version": 3
   },
   "file_extension": ".py",
   "mimetype": "text/x-python",
   "name": "python",
   "nbconvert_exporter": "python",
   "pygments_lexer": "ipython3",
   "version": "3.12.11"
  },
  "orig_nbformat": 4
 },
 "nbformat": 4,
 "nbformat_minor": 0
}
